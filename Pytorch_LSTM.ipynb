{
 "cells": [
  {
   "cell_type": "markdown",
   "id": "9fe7c43f",
   "metadata": {},
   "source": [
    "1. Preprocess\n",
    "2. Data Loader\n",
    "3. Model define"
   ]
  },
  {
   "cell_type": "markdown",
   "id": "27d8d602",
   "metadata": {},
   "source": [
    "# LSTM"
   ]
  },
  {
   "cell_type": "markdown",
   "id": "8d9455ff",
   "metadata": {},
   "source": [
    "* https://github.com/SheezaShabbir/Time-series-Analysis-using-LSTM-RNN-and-GRU/blob/main/Pytorch_LSTMs%2CRNN%2CGRU_for_time_series_data.ipynb\n",
    "* https://github.com/vincrichard/LSTM-AutoEncoder-Unsupervised-Anomaly-Detection/blob/master/DataChallengeReport_VincentRichard.ipynb\n",
    "* https://github.com/yakhyo/pytorch-tutorials/blob/main/tutorials/03-intermediate/04-lstm-network/main.py\n",
    "* https://github.com/yakhyo/pytorch-tutorials/blob/main/tutorials/03-intermediate/05-var-auto-encode/main.py\n",
    "* https://github.com/vincrichard/LSTM-AutoEncoder-Unsupervised-Anomaly-Detection/blob/master/DataChallengeReport_VincentRichard.ipynb"
   ]
  },
  {
   "cell_type": "code",
   "execution_count": 1,
   "id": "08d7a8a5",
   "metadata": {},
   "outputs": [],
   "source": [
    "import torch\n",
    "from torch.utils.data import Dataset, DataLoader, TensorDataset\n",
    "import numpy as np\n",
    "import pandas as pd\n",
    "import torch.nn as nn\n",
    "from torchsummary import summary\n",
    "import torch.optim as optim\n",
    "from tqdm.auto import tqdm\n",
    "from matplotlib import pyplot as plt"
   ]
  },
  {
   "cell_type": "markdown",
   "id": "30431037",
   "metadata": {},
   "source": [
    "## 1. Preprocessing"
   ]
  },
  {
   "cell_type": "code",
   "execution_count": 7,
   "id": "b0a380f8",
   "metadata": {},
   "outputs": [],
   "source": [
    "df = pd.read_csv('/home/user/Desktop/Pytorch/training_spiral.csv')\n",
    "feature_list = ['Fx','Fy','Fz','Mx','My']\n",
    "TIMESTEP = 50\n",
    "BATCH_SIZE = 32"
   ]
  },
  {
   "cell_type": "code",
   "execution_count": 8,
   "id": "22aec7b2",
   "metadata": {},
   "outputs": [
    {
     "data": {
      "text/plain": [
       "(357823, 20)"
      ]
     },
     "execution_count": 8,
     "metadata": {},
     "output_type": "execute_result"
    }
   ],
   "source": [
    "df.shape"
   ]
  },
  {
   "cell_type": "code",
   "execution_count": 9,
   "id": "93f445ef",
   "metadata": {},
   "outputs": [],
   "source": [
    "df = df.iloc[:50000]"
   ]
  },
  {
   "cell_type": "code",
   "execution_count": 10,
   "id": "6fdf4c99",
   "metadata": {},
   "outputs": [
    {
     "data": {
      "text/plain": [
       "(50000, 20)"
      ]
     },
     "execution_count": 10,
     "metadata": {},
     "output_type": "execute_result"
    }
   ],
   "source": [
    "df.shape"
   ]
  },
  {
   "cell_type": "code",
   "execution_count": 11,
   "id": "5043b68a",
   "metadata": {},
   "outputs": [
    {
     "data": {
      "text/plain": [
       "False    50000\n",
       "Name: Case, dtype: int64"
      ]
     },
     "execution_count": 11,
     "metadata": {},
     "output_type": "execute_result"
    }
   ],
   "source": [
    "df.Case.value_counts()"
   ]
  },
  {
   "cell_type": "code",
   "execution_count": 12,
   "id": "61acb87f",
   "metadata": {},
   "outputs": [],
   "source": [
    "def to_sequence(data, timesteps=1):\n",
    "    \"\"\"\n",
    "    Performs windowing on the data, i.e. divides time series into sub-sequences of equal length \n",
    "    Attributes:\n",
    "        data: dataset\n",
    "        timesteps: length of each sub-sequence\n",
    "    Returns:\n",
    "        Array of features and lables.\n",
    "    \"\"\"\n",
    "    n_features=data.shape[2]\n",
    "    x = []\n",
    "    y = []\n",
    "    for i in range(len(data)-timesteps):\n",
    "        # takes a window of data of specified timesteps\n",
    "        \n",
    "        _x = data[i:(i+timesteps)]\n",
    "        _x = _x.reshape(timesteps, n_features)\n",
    "#         print(_x.shape)\n",
    "        _y = data[i+timesteps]\n",
    "        _y = _y.reshape(n_features)\n",
    "#         print(_y.shape)\n",
    "        x.append(_x)\n",
    "        y.append(_y)\n",
    "\n",
    "        \n",
    "    return np.array(x), np.array(y)"
   ]
  },
  {
   "cell_type": "code",
   "execution_count": 13,
   "id": "4efa0cc3",
   "metadata": {
    "scrolled": true
   },
   "outputs": [
    {
     "name": "stdout",
     "output_type": "stream",
     "text": [
      "(49961, 5)\n"
     ]
    }
   ],
   "source": [
    "df_total = df[feature_list]\n",
    "window = 40\n",
    "df_total = df_total.rolling(window).mean()\n",
    "# due to the moving average we the first (window-1) rows become NaN so we remove them\n",
    "df_total = df_total.loc[window-1:]\n",
    "print(df_total.shape)\n"
   ]
  },
  {
   "cell_type": "code",
   "execution_count": 14,
   "id": "e5d89115",
   "metadata": {},
   "outputs": [
    {
     "name": "stdout",
     "output_type": "stream",
     "text": [
      "Train size: (44926, 5) | Valid size: (5035, 5)\n"
     ]
    }
   ],
   "source": [
    "train_size = len(df_total)*0.9\n",
    "df_train, df_valid = df_total.loc[:train_size],df_total.loc[train_size:] \n",
    "print(f\"Train size: {df_train.shape} | Valid size: {df_valid.shape}\")"
   ]
  },
  {
   "cell_type": "code",
   "execution_count": 15,
   "id": "c83ce91e",
   "metadata": {},
   "outputs": [
    {
     "name": "stdout",
     "output_type": "stream",
     "text": [
      "X_train: (44876, 50, 5) | y_train: (44876, 5)\n",
      "X_valid: (4985, 50, 5) | y_valid: (4985, 5)\n"
     ]
    }
   ],
   "source": [
    "train = np.expand_dims(df_train, axis=1)\n",
    "valid = np.expand_dims(df_valid, axis=1)\n",
    "\n",
    "x_train, y_train = to_sequence(train, timesteps=TIMESTEP)\n",
    "x_valid, y_valid = to_sequence(valid, timesteps=TIMESTEP)\n",
    "\n",
    "print(f\"X_train: {x_train.shape} | y_train: {y_train.shape}\")\n",
    "print(f\"X_valid: {x_valid.shape} | y_valid: {y_valid.shape}\")"
   ]
  },
  {
   "cell_type": "markdown",
   "id": "401bc016",
   "metadata": {},
   "source": [
    "# 2. Callback"
   ]
  },
  {
   "cell_type": "code",
   "execution_count": 16,
   "id": "c86ca071",
   "metadata": {},
   "outputs": [],
   "source": [
    "class EarlyStopping:\n",
    "    def __init__(self, patience=0):\n",
    "        self.last_metrics = 10**8\n",
    "        self.patience = patience\n",
    "        self.patience_count = 0\n",
    "\n",
    "    def check_validation(self, metric):\n",
    "        if metric < self.last_metrics:\n",
    "            self.last_metrics = metric\n",
    "            self.patience_count = 0\n",
    "            return False\n",
    "        elif (metric > self.last_metrics) & (self.patience_count < self.patience):\n",
    "            self.patience_count += 1\n",
    "            return False\n",
    "        else:\n",
    "            print(f'Early Stopping, counter is: {self.patience_count}')\n",
    "            return True"
   ]
  },
  {
   "cell_type": "markdown",
   "id": "634ab8c3",
   "metadata": {},
   "source": [
    "## 2. Data Loader"
   ]
  },
  {
   "cell_type": "code",
   "execution_count": 17,
   "id": "2248c491",
   "metadata": {},
   "outputs": [],
   "source": [
    "x_train_torch, y_train_torch = torch.Tensor(x_train), torch.Tensor(y_train)\n",
    "x_valid_torch, y_valid_torch = torch.Tensor(x_valid), torch.Tensor(y_valid)\n",
    "\n",
    "train_dataset = TensorDataset(x_train_torch, y_train_torch)\n",
    "valid_dataset = TensorDataset(x_valid_torch, y_valid_torch)"
   ]
  },
  {
   "cell_type": "code",
   "execution_count": 18,
   "id": "5b100fc8",
   "metadata": {},
   "outputs": [],
   "source": [
    "train_loader = DataLoader(train_dataset, batch_size=BATCH_SIZE, shuffle=False)\n",
    "valid_loader = DataLoader(valid_dataset, batch_size=BATCH_SIZE, shuffle=False)"
   ]
  },
  {
   "cell_type": "code",
   "execution_count": 19,
   "id": "22e5cbb1",
   "metadata": {},
   "outputs": [
    {
     "name": "stdout",
     "output_type": "stream",
     "text": [
      "X Train batch shape: torch.Size([32, 50, 5])\n",
      "Y Train batch shape: torch.Size([32, 5])\n"
     ]
    }
   ],
   "source": [
    "x_train, y_train = next(iter(train_loader))\n",
    "print(f\"X Train batch shape: {x_train.size()}\")\n",
    "print(f\"Y Train batch shape: {y_train.size()}\")"
   ]
  },
  {
   "cell_type": "markdown",
   "id": "9221ed98",
   "metadata": {},
   "source": [
    "## 3. Model Building"
   ]
  },
  {
   "cell_type": "code",
   "execution_count": 20,
   "id": "b1ac5198",
   "metadata": {},
   "outputs": [
    {
     "name": "stdout",
     "output_type": "stream",
     "text": [
      "Using: cpu\n"
     ]
    }
   ],
   "source": [
    "device = torch.device('cuda') if torch.cuda.is_available() else torch.device('cpu')\n",
    "print(\"Using:\", device)"
   ]
  },
  {
   "cell_type": "markdown",
   "id": "5d792f5d",
   "metadata": {},
   "source": [
    "## 3.1. LSTM \n",
    "LSTM: https://pytorch.org/docs/stable/generated/torch.nn.LSTM.html\n",
    "\n",
    "1. `input, (h_0, c_0)`\n",
    "    * input: `(N, L, Hin)`\n",
    "    * h_0: tensor of shape `(num_layers, N,hidden_size)`, defaults to zeros \n",
    "    * c_0: tensor of shape `(num_layers, N, Hcell)`\n",
    "2. `output, (h_n, c_n)`\n",
    "    * output: `(N,L,hidden_size)`\n",
    "    * h_n: containing final hidden state for each element in the sequence: `(num_layers, N, hidden_size)`\n",
    "    * c_0:  `(num_layers, N, Hcell)`"
   ]
  },
  {
   "cell_type": "code",
   "execution_count": 21,
   "id": "45b536dc",
   "metadata": {
    "scrolled": true
   },
   "outputs": [],
   "source": [
    "class LSTMModel(nn.Module):\n",
    "    \"\"\"\n",
    "    Attributes:\n",
    "        input_size: number of expected features in X\n",
    "        hidden_size: how many LSTM cells are there in each hidden layer\n",
    "        num_layers: how many stacked LSTMs we want to use\n",
    "        output_dim: LSTM output shape\n",
    "    \"\"\"\n",
    "    def __init__(self, input_size, hidden_size, num_layers, output_dim, print_info):\n",
    "        super(LSTMModel, self).__init__()\n",
    "        self.print_info = print_info\n",
    "        \n",
    "        self.hidden_size = hidden_size\n",
    "        self.num_layers = num_layers\n",
    "                \n",
    "        # LSTM\n",
    "        self.lstm = nn.LSTM(input_size, hidden_size, num_layers, batch_first=True)\n",
    "        # Fully Connected\n",
    "        # Output_dim == number of features (1 pred per feature)\n",
    "        self.fc = nn.Linear(hidden_size, output_dim)\n",
    "        \n",
    "    def _init_hidden(self, X):\n",
    "        \"\"\"\n",
    "        Initialize hidden state with zeros\n",
    "        \"\"\"\n",
    "        batch_size = X.size(0)\n",
    "        device = X.device\n",
    "        h0 = torch.zeros(self.num_layers, batch_size, self.hidden_size).to(device)\n",
    "        c0 = torch.zeros(self.num_layers, batch_size, self.hidden_size).to(device)\n",
    "        \n",
    "        return h0, c0\n",
    "        \n",
    "    def forward(self, X):\n",
    "        \"\"\"\n",
    "        input (X): should be of shape (batch_size, seq_length, hidden_size)\n",
    "        \"\"\"\n",
    "        # initialize hidden and cell states\n",
    "        h0, c0 = self._init_hidden(X)\n",
    "        # call lstm\n",
    "        out, (hn, cn) = self.lstm(X, (h0.detach(), c0.detach()))\n",
    "        # for plotting\n",
    "        init_out = out\n",
    "        # out: batch_size, seq_len, hidden_size\n",
    "        # out(N, 28, 128)\n",
    "        out = out[:,-1,:]\n",
    "        out_reshaped = out\n",
    "        # we want last timestep: out (N, 128)\n",
    "        out = self.fc(out)\n",
    "        # batch_size, output_dim\n",
    "        \n",
    "        if self.print_info:\n",
    "            print('X shape:', X.shape)\n",
    "            print(f\"h0 shape: {h0.shape}, c0 shape: {c0.shape}\")\n",
    "            print('init_out shape:', init_out.shape)\n",
    "            print('output_reshaped', out_reshaped.shape)\n",
    "            print('out shape:', out.shape)\n",
    "            \n",
    "        return out\n",
    "        "
   ]
  },
  {
   "cell_type": "code",
   "execution_count": 22,
   "id": "9c08a06c",
   "metadata": {},
   "outputs": [
    {
     "name": "stdout",
     "output_type": "stream",
     "text": [
      "LSTMModel(\n",
      "  (lstm): LSTM(5, 32, batch_first=True)\n",
      "  (fc): Linear(in_features=32, out_features=5, bias=True)\n",
      ")\n"
     ]
    }
   ],
   "source": [
    "#  input_size: number of expected features in X\n",
    "#  hidden_size: how many LSTM cells are there in each hidden layer\n",
    "#  num_layers: how many stacked LSTMs we want to use\n",
    "\n",
    "input_size = 5\n",
    "hidden_size = 32\n",
    "num_layers = 1\n",
    "output_dim = 5\n",
    "\n",
    "sequence_dim = TIMESTEP\n",
    "\n",
    "# instatiate model\n",
    "model = LSTMModel(input_size, hidden_size, num_layers, output_dim, print_info=False)\n",
    "# moving model to the GPU \n",
    "model = model.to(device)\n",
    "print(model)"
   ]
  },
  {
   "cell_type": "code",
   "execution_count": 23,
   "id": "5ff7885e",
   "metadata": {},
   "outputs": [],
   "source": [
    "# optimizer\n",
    "optimizer = optim.Adam(model.parameters(), lr=0.0001)\n",
    "# loss\n",
    "criterion = torch.nn.MSELoss()\n",
    "# callback\n",
    "earlyStopping = EarlyStopping(patience=10)"
   ]
  },
  {
   "cell_type": "markdown",
   "id": "09904b66",
   "metadata": {},
   "source": [
    "## 4. Training"
   ]
  },
  {
   "cell_type": "code",
   "execution_count": 24,
   "id": "88f2c340",
   "metadata": {},
   "outputs": [
    {
     "name": "stdout",
     "output_type": "stream",
     "text": [
      "Length of Train Loader 1403 batches of 32\n"
     ]
    }
   ],
   "source": [
    "print(f\"Length of Train Loader {len(train_loader)} batches of {BATCH_SIZE}\")"
   ]
  },
  {
   "cell_type": "code",
   "execution_count": 25,
   "id": "e75ff20c",
   "metadata": {},
   "outputs": [],
   "source": [
    "def train_step(model, train_loader, criterion, optimizer, device):\n",
    "    \"\"\"\n",
    "    Function responsible for performing learning for one epoch.\n",
    "    Attributes:\n",
    "        model: model to be trained\n",
    "        train_loader: data loader for the training set\n",
    "        criterion: loss function\n",
    "        optimizer: optimizer used for updating the loss\n",
    "    Returns:\n",
    "        train_loss: average training loss from 1 epoch \n",
    "    \"\"\"\n",
    "    # training mode\n",
    "    model.train()\n",
    "    \n",
    "    train_loss = 0\n",
    "    # we track the batch index \n",
    "    for batch_idx, (x_batch, y_batch) in enumerate(train_loader):\n",
    "        \n",
    "        # moving data to the GPU \n",
    "        x_batch = x_batch.to(device)\n",
    "        y_batch = y_batch.to(device)\n",
    "        \n",
    "        # prediction\n",
    "        yhat = model(x_batch)\n",
    "        \n",
    "        # calculate loss\n",
    "        loss = criterion(y_batch, yhat)\n",
    "        train_loss += loss.item()\n",
    "        \n",
    "        # zero gradient\n",
    "        optimizer.zero_grad()\n",
    "        \n",
    "        # backprop gradient\n",
    "        loss.backward()\n",
    "        \n",
    "        # loss step\n",
    "        optimizer.step()\n",
    "        \n",
    "        # update every 100 batches, to reduce lag\n",
    "        if batch_idx % 100 == 0:\n",
    "            print('\\r', 'Training [{}/{} ({:.0f}%)] \\tLoss: {:.6f})]'.format(\n",
    "                batch_idx + 1, len(train_loader),\n",
    "                (batch_idx + 1) * 100 / len(train_loader),\n",
    "                loss.item()), sep='', end='', flush=True)\n",
    "        \n",
    "    avg_train_loss = train_loss/ len(train_loader)\n",
    "    return avg_train_loss"
   ]
  },
  {
   "cell_type": "code",
   "execution_count": 26,
   "id": "e6cb2e1a",
   "metadata": {},
   "outputs": [],
   "source": [
    "def validation_step(model, valid_loader, criterion, device):\n",
    "    \"\"\"\n",
    "    Function responsible for performing evaluation of trained model on the test set for one epoch.\n",
    "    Attributes:\n",
    "        model: trained model to be used\n",
    "        valid_loader: data loader for the validation set\n",
    "        criterion: loss function\n",
    "    Returns:\n",
    "        valid_loss: average validation loss from 1 epoch \n",
    "    \"\"\"\n",
    "    # no training, equivalent to model.learn(False)\n",
    "    model.eval()\n",
    "    \n",
    "    # set test loss\n",
    "    valid_loss = 0\n",
    "    # turn inference\n",
    "    with torch.inference_mode():\n",
    "        for batch_idx, (x_batch, y_batch) in enumerate(valid_loader):\n",
    "\n",
    "            x_batch = x_batch.to(device)\n",
    "            y_batch = y_batch.to(device)\n",
    "\n",
    "            yhat = model(x_batch)\n",
    "\n",
    "            loss = criterion(y_batch, yhat)\n",
    "            valid_loss += loss.item()\n",
    "        \n",
    "        print('\\r', 'Validation [{}/{} ({:.0f}%)] \\tLoss: {:.6f})]'.format(\n",
    "            batch_idx + 1, len(valid_loader),\n",
    "            (batch_idx + 1) * 100 / len(valid_loader),\n",
    "            loss.item()), sep='', end='', flush=True)\n",
    "        \n",
    "        valid_loss = valid_loss/ len(valid_loader)\n",
    "        # early stopping update metric\n",
    "        earlyStopping.check_validation(valid_loss)\n",
    "        return valid_loss"
   ]
  },
  {
   "cell_type": "code",
   "execution_count": 27,
   "id": "f1008e2e",
   "metadata": {},
   "outputs": [],
   "source": [
    "def train(model, train_loader, valid_loader, optimizer, criterion, epochs, device):\n",
    "    \"\"\"\n",
    "    Function responsible for performing learning for multiple epochs\n",
    "    Attributes:\n",
    "        model: model to be trained\n",
    "        train_loader: data loader for the training set\n",
    "        criterion: loss function\n",
    "        optimizer: optimizer used for updating the loss\n",
    "    Returns:\n",
    "        results: dictionary of results\n",
    "    \"\"\"\n",
    "    # dictionary of results\n",
    "    results = {\"train_loss\": [],\n",
    "              \"valid_loss\": []}\n",
    "    \n",
    "    for epoch in tqdm(range(epochs)):\n",
    "        # perform training on one epoch\n",
    "        avg_train_loss = train_step(model, train_loader, criterion, optimizer, device) \n",
    "        # perform validation on one epoch\n",
    "        avg_valid_loss = validation_step(model, valid_loader, criterion, device)\n",
    "        # print loss\n",
    "        print(f\"\\nEpoch: {epoch} | Avg Train loss: {avg_train_loss} | Avg Validation loss: {avg_valid_loss}\")\n",
    "        \n",
    "        # update results dicts\n",
    "        results['train_loss'].append(avg_train_loss)\n",
    "        results['valid_loss'].append(avg_valid_loss)\n",
    "        \n",
    "        if earlyStopping.patience_count == 5:\n",
    "            print('Stopping')\n",
    "            break\n",
    "    return results"
   ]
  },
  {
   "cell_type": "code",
   "execution_count": 28,
   "id": "ee785473",
   "metadata": {},
   "outputs": [],
   "source": [
    "def plot_loss_curves(results):\n",
    "    loss = results['train_loss']\n",
    "    valid_loss = results['valid_loss']\n",
    "    \n",
    "    epochs = range(len(results['train_loss']))\n",
    "    \n",
    "    plt.figure()\n",
    "    plt.title('Training Curve')\n",
    "    plt.plot(epochs, loss, label='Training Loss')\n",
    "    plt.plot(epochs, valid_loss,label='Validation Loss')\n",
    "    plt.xlabel('Epoch')\n",
    "    plt.ylabel('Loss')\n",
    "    plt.legend()\n",
    "    plt.grid()\n",
    "    plt.show()"
   ]
  },
  {
   "cell_type": "code",
   "execution_count": 27,
   "id": "9ae3f44b",
   "metadata": {},
   "outputs": [
    {
     "data": {
      "application/json": {
       "ascii": false,
       "bar_format": null,
       "colour": null,
       "elapsed": 0.00728297233581543,
       "initial": 0,
       "n": 0,
       "ncols": null,
       "nrows": 24,
       "postfix": null,
       "prefix": "",
       "rate": null,
       "total": 30,
       "unit": "it",
       "unit_divisor": 1000,
       "unit_scale": false
      },
      "application/vnd.jupyter.widget-view+json": {
       "model_id": "d38383d1652441708acdae76cad0f1eb",
       "version_major": 2,
       "version_minor": 0
      },
      "text/plain": [
       "  0%|          | 0/30 [00:00<?, ?it/s]"
      ]
     },
     "metadata": {},
     "output_type": "display_data"
    },
    {
     "name": "stdout",
     "output_type": "stream",
     "text": [
      "Validation [156/156 (100%)] \tLoss: 0.009712)]\n",
      "Epoch: 0 | Avg Train loss: 0.044939614881191164 | Avg Validation loss: 0.02647986442137223\n",
      "Validation [156/156 (100%)] \tLoss: 0.003151)]\n",
      "Epoch: 1 | Avg Train loss: 0.02389051923164879 | Avg Validation loss: 0.01338860012205819\n",
      "Validation [156/156 (100%)] \tLoss: 0.003969)]\n",
      "Epoch: 2 | Avg Train loss: 0.012616013718966604 | Avg Validation loss: 0.007217927872074935\n",
      "Validation [156/156 (100%)] \tLoss: 0.002607)]\n",
      "Epoch: 3 | Avg Train loss: 0.008085106082331305 | Avg Validation loss: 0.00499140133298426\n",
      "Validation [156/156 (100%)] \tLoss: 0.002956)]\n",
      "Epoch: 4 | Avg Train loss: 0.005958180699952751 | Avg Validation loss: 0.0041354290009715045\n",
      "Validation [156/156 (100%)] \tLoss: 0.001766)]\n",
      "Epoch: 5 | Avg Train loss: 0.0055749281529223985 | Avg Validation loss: 0.003008675373096664\n",
      "Validation [156/156 (100%)] \tLoss: 0.001477)]\n",
      "Epoch: 6 | Avg Train loss: 0.004447004192309034 | Avg Validation loss: 0.0025519431855616113\n",
      "Validation [156/156 (100%)] \tLoss: 0.001444)]\n",
      "Epoch: 7 | Avg Train loss: 0.0038784955756642364 | Avg Validation loss: 0.002212033070417163\n",
      "Validation [156/156 (100%)] \tLoss: 0.001864)]\n",
      "Epoch: 8 | Avg Train loss: 0.003326629945540008 | Avg Validation loss: 0.0021903504063793197\n",
      "Validation [156/156 (100%)] \tLoss: 0.003782)]\n",
      "Epoch: 9 | Avg Train loss: 0.002869715778184414 | Avg Validation loss: 0.0023081027786993683\n",
      "Validation [156/156 (100%)] \tLoss: 0.002281)]\n",
      "Epoch: 10 | Avg Train loss: 0.002570567979881937 | Avg Validation loss: 0.0017436688899462565\n",
      "Validation [156/156 (100%)] \tLoss: 0.001907)]\n",
      "Epoch: 11 | Avg Train loss: 0.002450385978977287 | Avg Validation loss: 0.001547343897889219\n",
      "Validation [156/156 (100%)] \tLoss: 0.003674)]\n",
      "Epoch: 12 | Avg Train loss: 0.002439974718086597 | Avg Validation loss: 0.0019884915801902446\n",
      "Validation [156/156 (100%)] \tLoss: 0.002053)]\n",
      "Epoch: 13 | Avg Train loss: 0.0024015395302284495 | Avg Validation loss: 0.001514297945761474\n",
      "Validation [156/156 (100%)] \tLoss: 0.001372)]\n",
      "Epoch: 14 | Avg Train loss: 0.002391414271061626 | Avg Validation loss: 0.0010359441528588575\n",
      "Validation [156/156 (100%)] \tLoss: 0.002353)]\n",
      "Epoch: 15 | Avg Train loss: 0.0022237827946128327 | Avg Validation loss: 0.0011439212273846632\n",
      "Validation [156/156 (100%)] \tLoss: 0.001015)]\n",
      "Epoch: 16 | Avg Train loss: 0.002054460235407207 | Avg Validation loss: 0.000829792423759593\n",
      "Validation [156/156 (100%)] \tLoss: 0.002397)]\n",
      "Epoch: 17 | Avg Train loss: 0.001856241525700427 | Avg Validation loss: 0.001241148768223446\n",
      "Validation [156/156 (100%)] \tLoss: 0.001342)]\n",
      "Epoch: 18 | Avg Train loss: 0.0020059506463509912 | Avg Validation loss: 0.0009708690558443031\n",
      "Validation [156/156 (100%)] \tLoss: 0.002882)]\n",
      "Epoch: 19 | Avg Train loss: 0.001800124069140774 | Avg Validation loss: 0.0011783156356754121\n",
      "Validation [156/156 (100%)] \tLoss: 0.001141)]\n",
      "Epoch: 20 | Avg Train loss: 0.0017122515733615168 | Avg Validation loss: 0.0007311403656692561\n",
      "Validation [156/156 (100%)] \tLoss: 0.001809)]\n",
      "Epoch: 21 | Avg Train loss: 0.001647131018128086 | Avg Validation loss: 0.0010084780650429774\n",
      "Validation [156/156 (100%)] \tLoss: 0.001929)]\n",
      "Epoch: 22 | Avg Train loss: 0.001957300759137343 | Avg Validation loss: 0.0009510357596856267\n",
      "Validation [156/156 (100%)] \tLoss: 0.000857)]\n",
      "Epoch: 23 | Avg Train loss: 0.001877241379586723 | Avg Validation loss: 0.0007340280882579883\n",
      "Validation [156/156 (100%)] \tLoss: 0.005854)]\n",
      "Epoch: 24 | Avg Train loss: 0.001265494602174492 | Avg Validation loss: 0.0031258373286012406\n",
      "Validation [156/156 (100%)] \tLoss: 0.000972)]\n",
      "Epoch: 25 | Avg Train loss: 0.0017764518794988488 | Avg Validation loss: 0.0007626258449398357\n",
      "Stopping\n"
     ]
    }
   ],
   "source": [
    "results_history = train(model, train_loader, valid_loader, optimizer, criterion, 30, device)"
   ]
  },
  {
   "cell_type": "code",
   "execution_count": 28,
   "id": "83072471",
   "metadata": {},
   "outputs": [
    {
     "data": {
      "image/png": "[encoded data removed]",
      "text/plain": [
       "<Figure size 640x480 with 1 Axes>"
      ]
     },
     "metadata": {},
     "output_type": "display_data"
    }
   ],
   "source": [
    "plot_loss_curves(results_history)"
   ]
  },
  {
   "cell_type": "markdown",
   "id": "6d37b41e",
   "metadata": {},
   "source": [
    "### saving model and loading the model"
   ]
  },
  {
   "cell_type": "code",
   "execution_count": 51,
   "id": "6c6d0293",
   "metadata": {},
   "outputs": [],
   "source": [
    "save = False"
   ]
  },
  {
   "cell_type": "code",
   "execution_count": 52,
   "id": "3ff0a0c5",
   "metadata": {},
   "outputs": [],
   "source": [
    "if save:\n",
    "    torch.save(model, './trained_models/01_LSTM_model.pth')"
   ]
  },
  {
   "cell_type": "code",
   "execution_count": 29,
   "id": "04e8fbdd",
   "metadata": {},
   "outputs": [],
   "source": [
    "model = torch.load('/home/user/Desktop/Pytorch/LSTM_Pytorch/trained_models/01_LSTM_model.pth')"
   ]
  },
  {
   "cell_type": "markdown",
   "id": "cce994b2",
   "metadata": {},
   "source": [
    "## Test Data"
   ]
  },
  {
   "cell_type": "code",
   "execution_count": 30,
   "id": "bf6d1504",
   "metadata": {},
   "outputs": [],
   "source": [
    "df_test = pd.read_csv('/home/user/Desktop/Pytorch/spiral4_expanded/ep1.csv')\n",
    "feature_list = ['Fx','Fy','Fz','Mx','My']\n",
    "TIMESTEP = 50\n",
    "BATCH_SIZE = 32"
   ]
  },
  {
   "cell_type": "code",
   "execution_count": 31,
   "id": "886efd6b",
   "metadata": {},
   "outputs": [
    {
     "data": {
      "text/html": [
       "<div>\n",
       "<style scoped>\n",
       "    .dataframe tbody tr th:only-of-type {\n",
       "        vertical-align: middle;\n",
       "    }\n",
       "\n",
       "    .dataframe tbody tr th {\n",
       "        vertical-align: top;\n",
       "    }\n",
       "\n",
       "    .dataframe thead th {\n",
       "        text-align: right;\n",
       "    }\n",
       "</style>\n",
       "<table border=\"1\" class=\"dataframe\">\n",
       "  <thead>\n",
       "    <tr style=\"text-align: right;\">\n",
       "      <th></th>\n",
       "      <th>Unnamed: 0.1</th>\n",
       "      <th>Unnamed: 0</th>\n",
       "      <th>t</th>\n",
       "      <th>x</th>\n",
       "      <th>y</th>\n",
       "      <th>z</th>\n",
       "      <th>rx</th>\n",
       "      <th>ry</th>\n",
       "      <th>rz</th>\n",
       "      <th>vx</th>\n",
       "      <th>vy</th>\n",
       "      <th>vz</th>\n",
       "      <th>Fx</th>\n",
       "      <th>Fy</th>\n",
       "      <th>Fz</th>\n",
       "      <th>Mx</th>\n",
       "      <th>My</th>\n",
       "      <th>Mz</th>\n",
       "      <th>Case</th>\n",
       "    </tr>\n",
       "  </thead>\n",
       "  <tbody>\n",
       "    <tr>\n",
       "      <th>0</th>\n",
       "      <td>0</td>\n",
       "      <td>0</td>\n",
       "      <td>2.267778</td>\n",
       "      <td>-0.140886</td>\n",
       "      <td>-0.510601</td>\n",
       "      <td>0.072322</td>\n",
       "      <td>-0.000093</td>\n",
       "      <td>0.000043</td>\n",
       "      <td>0.000020</td>\n",
       "      <td>0.000045</td>\n",
       "      <td>0.000072</td>\n",
       "      <td>-0.003916</td>\n",
       "      <td>-0.047292</td>\n",
       "      <td>0.459952</td>\n",
       "      <td>1.659794</td>\n",
       "      <td>0.006255</td>\n",
       "      <td>-0.006227</td>\n",
       "      <td>0.001067</td>\n",
       "      <td>False</td>\n",
       "    </tr>\n",
       "    <tr>\n",
       "      <th>1</th>\n",
       "      <td>1</td>\n",
       "      <td>1</td>\n",
       "      <td>2.278596</td>\n",
       "      <td>-0.140869</td>\n",
       "      <td>-0.510647</td>\n",
       "      <td>0.072316</td>\n",
       "      <td>-0.000180</td>\n",
       "      <td>0.000032</td>\n",
       "      <td>0.000020</td>\n",
       "      <td>0.000018</td>\n",
       "      <td>-0.001568</td>\n",
       "      <td>-0.002649</td>\n",
       "      <td>0.102265</td>\n",
       "      <td>0.194572</td>\n",
       "      <td>1.870122</td>\n",
       "      <td>0.028701</td>\n",
       "      <td>-0.011249</td>\n",
       "      <td>0.003291</td>\n",
       "      <td>False</td>\n",
       "    </tr>\n",
       "    <tr>\n",
       "      <th>2</th>\n",
       "      <td>2</td>\n",
       "      <td>2</td>\n",
       "      <td>2.286297</td>\n",
       "      <td>-0.140869</td>\n",
       "      <td>-0.510651</td>\n",
       "      <td>0.072312</td>\n",
       "      <td>-0.000226</td>\n",
       "      <td>-0.000003</td>\n",
       "      <td>0.000007</td>\n",
       "      <td>0.000030</td>\n",
       "      <td>-0.000074</td>\n",
       "      <td>-0.003368</td>\n",
       "      <td>0.014108</td>\n",
       "      <td>0.331576</td>\n",
       "      <td>2.677613</td>\n",
       "      <td>0.019793</td>\n",
       "      <td>-0.002007</td>\n",
       "      <td>0.002237</td>\n",
       "      <td>False</td>\n",
       "    </tr>\n",
       "    <tr>\n",
       "      <th>3</th>\n",
       "      <td>3</td>\n",
       "      <td>3</td>\n",
       "      <td>2.293303</td>\n",
       "      <td>-0.140888</td>\n",
       "      <td>-0.510676</td>\n",
       "      <td>0.072291</td>\n",
       "      <td>-0.000285</td>\n",
       "      <td>0.000034</td>\n",
       "      <td>-0.000016</td>\n",
       "      <td>0.000030</td>\n",
       "      <td>0.000049</td>\n",
       "      <td>-0.003043</td>\n",
       "      <td>-0.135716</td>\n",
       "      <td>1.062784</td>\n",
       "      <td>4.023598</td>\n",
       "      <td>0.044166</td>\n",
       "      <td>-0.010536</td>\n",
       "      <td>0.004545</td>\n",
       "      <td>False</td>\n",
       "    </tr>\n",
       "    <tr>\n",
       "      <th>4</th>\n",
       "      <td>4</td>\n",
       "      <td>4</td>\n",
       "      <td>2.302973</td>\n",
       "      <td>-0.140872</td>\n",
       "      <td>-0.510684</td>\n",
       "      <td>0.072301</td>\n",
       "      <td>-0.000358</td>\n",
       "      <td>0.000059</td>\n",
       "      <td>0.000067</td>\n",
       "      <td>0.000025</td>\n",
       "      <td>-0.000220</td>\n",
       "      <td>-0.002801</td>\n",
       "      <td>0.078930</td>\n",
       "      <td>0.762212</td>\n",
       "      <td>5.413166</td>\n",
       "      <td>0.064926</td>\n",
       "      <td>-0.019468</td>\n",
       "      <td>0.007819</td>\n",
       "      <td>False</td>\n",
       "    </tr>\n",
       "  </tbody>\n",
       "</table>\n",
       "</div>"
      ],
      "text/plain": [
       "   Unnamed: 0.1  Unnamed: 0         t         x         y         z        rx  \\\n",
       "0             0           0  2.267778 -0.140886 -0.510601  0.072322 -0.000093   \n",
       "1             1           1  2.278596 -0.140869 -0.510647  0.072316 -0.000180   \n",
       "2             2           2  2.286297 -0.140869 -0.510651  0.072312 -0.000226   \n",
       "3             3           3  2.293303 -0.140888 -0.510676  0.072291 -0.000285   \n",
       "4             4           4  2.302973 -0.140872 -0.510684  0.072301 -0.000358   \n",
       "\n",
       "         ry        rz        vx        vy        vz        Fx        Fy  \\\n",
       "0  0.000043  0.000020  0.000045  0.000072 -0.003916 -0.047292  0.459952   \n",
       "1  0.000032  0.000020  0.000018 -0.001568 -0.002649  0.102265  0.194572   \n",
       "2 -0.000003  0.000007  0.000030 -0.000074 -0.003368  0.014108  0.331576   \n",
       "3  0.000034 -0.000016  0.000030  0.000049 -0.003043 -0.135716  1.062784   \n",
       "4  0.000059  0.000067  0.000025 -0.000220 -0.002801  0.078930  0.762212   \n",
       "\n",
       "         Fz        Mx        My        Mz   Case  \n",
       "0  1.659794  0.006255 -0.006227  0.001067  False  \n",
       "1  1.870122  0.028701 -0.011249  0.003291  False  \n",
       "2  2.677613  0.019793 -0.002007  0.002237  False  \n",
       "3  4.023598  0.044166 -0.010536  0.004545  False  \n",
       "4  5.413166  0.064926 -0.019468  0.007819  False  "
      ]
     },
     "execution_count": 31,
     "metadata": {},
     "output_type": "execute_result"
    }
   ],
   "source": [
    "df_test.head()"
   ]
  },
  {
   "cell_type": "code",
   "execution_count": 32,
   "id": "6a938022",
   "metadata": {},
   "outputs": [
    {
     "name": "stdout",
     "output_type": "stream",
     "text": [
      "(5917, 5)\n"
     ]
    }
   ],
   "source": [
    "df_test = df_test[feature_list]\n",
    "print(df_test.shape)"
   ]
  },
  {
   "cell_type": "code",
   "execution_count": 34,
   "id": "df3f80b0",
   "metadata": {},
   "outputs": [
    {
     "data": {
      "image/png": "[encoded data removed]",
      "text/plain": [
       "<Figure size 640x480 with 1 Axes>"
      ]
     },
     "metadata": {},
     "output_type": "display_data"
    }
   ],
   "source": [
    "name = 'Fx'\n",
    "plt.title(name)\n",
    "plt.plot(df_test[name])\n",
    "plt.grid()\n",
    "plt.show()"
   ]
  },
  {
   "cell_type": "code",
   "execution_count": 35,
   "id": "e680d7cf",
   "metadata": {},
   "outputs": [
    {
     "name": "stdout",
     "output_type": "stream",
     "text": [
      "(5878, 5)\n",
      "X_test: (5828, 50, 5) | y_test: (5828, 5)\n"
     ]
    }
   ],
   "source": [
    "window = 40\n",
    "df_test = df_test.rolling(window).mean()\n",
    "# due to the moving average we the first (window-1) rows become NaN so we remove them\n",
    "df_test = df_test.loc[window-1:]\n",
    "print(df_test.shape)\n",
    "test = np.expand_dims(df_test, axis=1)\n",
    "\n",
    "x_test, y_test = to_sequence(test, timesteps=TIMESTEP)\n",
    "\n",
    "print(f\"X_test: {x_test.shape} | y_test: {y_test.shape}\")"
   ]
  },
  {
   "cell_type": "code",
   "execution_count": 36,
   "id": "36488ffe",
   "metadata": {},
   "outputs": [],
   "source": [
    "x_test_torch, y_test_torch = torch.Tensor(x_test), torch.Tensor(y_test)\n",
    "\n",
    "test_dataset = TensorDataset(x_test_torch, y_test_torch)"
   ]
  },
  {
   "cell_type": "code",
   "execution_count": 37,
   "id": "d7c800b0",
   "metadata": {},
   "outputs": [],
   "source": [
    "test_loader = DataLoader(test_dataset, batch_size=BATCH_SIZE, shuffle=False)"
   ]
  },
  {
   "cell_type": "markdown",
   "id": "479e534b",
   "metadata": {},
   "source": [
    "## Prediction on the Test Set"
   ]
  },
  {
   "cell_type": "code",
   "execution_count": null,
   "id": "21cd98a2",
   "metadata": {},
   "outputs": [],
   "source": [
    "def predict(loader, input_data, model):\n",
    "    model.eval()\n",
    "    predict = torch.zeros(size=input_data.shape, dtype=torch.float)\n",
    "    with torch.inference_mode():# torch.no_grad(): \n",
    "        for batch_idx, (x_batch, y_batch) in enumerate(loader):\n",
    "            x_batch = x_batch.to(device)\n",
    "            y_batch = y_batch.to(device)\n",
    "            \n",
    "            yhat = model(x_batch)\n",
    "            yhat = yhat.cput()\n",
    "            \n",
    "\n",
    "    avg_loss = eval_loss / len(loader)\n",
    "    print('====> Prediction Average loss: {:.6f}'.format(avg_loss))\n",
    "    return predict"
   ]
  },
  {
   "cell_type": "code",
   "execution_count": null,
   "id": "b6948b8b",
   "metadata": {},
   "outputs": [],
   "source": []
  },
  {
   "cell_type": "code",
   "execution_count": null,
   "id": "aa8d90da",
   "metadata": {},
   "outputs": [],
   "source": []
  },
  {
   "cell_type": "code",
   "execution_count": null,
   "id": "8585d324",
   "metadata": {},
   "outputs": [],
   "source": []
  },
  {
   "cell_type": "code",
   "execution_count": null,
   "id": "5fbe3135",
   "metadata": {},
   "outputs": [],
   "source": []
  },
  {
   "cell_type": "code",
   "execution_count": null,
   "id": "ee827e5e",
   "metadata": {},
   "outputs": [],
   "source": []
  }
 ],
 "metadata": {
  "kernelspec": {
   "display_name": "Python 3 (ipykernel)",
   "language": "python",
   "name": "python3"
  },
  "language_info": {
   "codemirror_mode": {
    "name": "ipython",
    "version": 3
   },
   "file_extension": ".py",
   "mimetype": "text/x-python",
   "name": "python",
   "nbconvert_exporter": "python",
   "pygments_lexer": "ipython3",
   "version": "3.10.6"
  }
 },
 "nbformat": 4,
 "nbformat_minor": 5
}
